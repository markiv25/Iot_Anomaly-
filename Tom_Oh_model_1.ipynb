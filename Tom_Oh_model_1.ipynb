{
 "cells": [
  {
   "cell_type": "code",
   "execution_count": 1,
   "metadata": {},
   "outputs": [
    {
     "name": "stdout",
     "output_type": "stream",
     "text": [
      "Python: 3.8.5 (default, Sep  3 2020, 21:29:08) [MSC v.1916 64 bit (AMD64)]\n",
      "scipy: 1.5.2\n",
      "numpy: 1.19.2\n",
      "matplotlib: 3.3.2\n",
      "pandas: 1.1.3\n",
      "sklearn: 0.23.2\n"
     ]
    }
   ],
   "source": [
    "# Check the versions of libraries\n",
    "\n",
    "# Python version\n",
    "import sys\n",
    "print('Python: {}'.format(sys.version))\n",
    "# scipy\n",
    "import scipy\n",
    "print('scipy: {}'.format(scipy.__version__))\n",
    "# numpy\n",
    "import numpy\n",
    "print('numpy: {}'.format(numpy.__version__))\n",
    "# matplotlib\n",
    "import matplotlib\n",
    "print('matplotlib: {}'.format(matplotlib.__version__))\n",
    "# pandas\n",
    "import pandas\n",
    "print('pandas: {}'.format(pandas.__version__))\n",
    "# scikit-learn\n",
    "import sklearn\n",
    "print('sklearn: {}'.format(sklearn.__version__))"
   ]
  },
  {
   "cell_type": "code",
   "execution_count": 1,
   "metadata": {},
   "outputs": [
    {
     "data": {
      "text/plain": [
       "Ellipsis"
      ]
     },
     "execution_count": 1,
     "metadata": {},
     "output_type": "execute_result"
    }
   ],
   "source": [
    "# Load libraries\n",
    "from pandas import read_csv\n",
    "import pandas as pd\n",
    "import ipaddress\n",
    "import keras\n",
    "import numpy as np\n",
    "from pandas.plotting import scatter_matrix\n",
    "from matplotlib import pyplot\n",
    "from sklearn.model_selection import train_test_split\n",
    "from sklearn.model_selection import cross_val_score\n",
    "from sklearn.model_selection import StratifiedKFold\n",
    "from sklearn.metrics import classification_report\n",
    "from sklearn.metrics import confusion_matrix\n",
    "from sklearn.metrics import accuracy_score\n",
    "from sklearn.linear_model import LogisticRegression\n",
    "from sklearn.tree import DecisionTreeClassifier\n",
    "from sklearn.neighbors import KNeighborsClassifier\n",
    "from sklearn.discriminant_analysis import LinearDiscriminantAnalysis\n",
    "from sklearn.naive_bayes import GaussianNB\n",
    "from sklearn.svm import SVC\n",
    "from sklearn import preprocessing\n",
    "from sklearn.preprocessing import OneHotEncoder\n",
    "..."
   ]
  },
  {
   "cell_type": "code",
   "execution_count": null,
   "metadata": {},
   "outputs": [],
   "source": []
  },
  {
   "cell_type": "code",
   "execution_count": 2,
   "metadata": {},
   "outputs": [
    {
     "name": "stderr",
     "output_type": "stream",
     "text": [
      "D:\\ML\\lib\\site-packages\\IPython\\core\\interactiveshell.py:3146: DtypeWarning: Columns (10) have mixed types.Specify dtype option on import or set low_memory=False.\n",
      "  has_raised = await self.run_ast_nodes(code_ast.body, cell_name,\n"
     ]
    },
    {
     "name": "stdout",
     "output_type": "stream",
     "text": [
      "(1565286, 20)\n",
      "   FIRST_SWITCHED  IN_BYTES  IN_PKTS   IPV4_DST_ADDR  L4_DST_PORT  \\\n",
      "0    1.579047e+09     240.0      4.0     52.9.239.18       5222.0   \n",
      "1    1.579047e+09      76.0      1.0  203.95.213.129        123.0   \n",
      "2    1.579047e+09     120.0      2.0   54.177.192.42       5222.0   \n",
      "\n",
      "   L4_SRC_PORT  LAST_SWITCHED  PROTOCOL  SRC_TOS  TCP_FLAGS  DURATION  \\\n",
      "0       3696.0   1.579043e+09       6.0      0.0        2.0    4195.0   \n",
      "1       4039.0   1.579043e+09      17.0      0.0        0.0    4216.0   \n",
      "2       3661.0   1.579043e+09       6.0      0.0        2.0    4213.0   \n",
      "\n",
      "               device_model partition  SRC_AS  DST_AS  INPUT_SNMP  \\\n",
      "0  webcam.Samsung.SNH-1011N  training     0.0     0.0         6.0   \n",
      "1  webcam.Samsung.SNH-1011N  training     0.0     0.0         6.0   \n",
      "2  webcam.Samsung.SNH-1011N  training     0.0     0.0         6.0   \n",
      "\n",
      "   OUTPUT_SNMP  IPV4_SRC_ADDR                MAC  inter_arrival_time  \n",
      "0          1.0  192.168.1.227  00:16:6C:7F:82:21        1.579048e+09  \n",
      "1          1.0  192.168.1.227  00:16:6C:7F:82:21        2.100000e+01  \n",
      "2          1.0  192.168.1.227  00:16:6C:7F:82:21        1.000000e+01  \n"
     ]
    }
   ],
   "source": [
    "...\n",
    "# Load dataset\n",
    "import csv\n",
    "path = r\"C:\\Users\\15853\\Downloads\\deNAT_labeled_26Mar2020_partitioned_to_share.csv\"\n",
    "datapath= open(path, 'r')\n",
    "data = read_csv(datapath, delimiter=\",\")\n",
    "data.pop('type')\n",
    "data.pop('date')\n",
    "data.pop('IP')\n",
    "label=data.pop('category')\n",
    "print(data.shape)\n",
    "print(data[:3])"
   ]
  },
  {
   "cell_type": "code",
   "execution_count": 3,
   "metadata": {},
   "outputs": [
    {
     "data": {
      "text/plain": [
       "0          IoT\n",
       "1          IoT\n",
       "2          IoT\n",
       "3          IoT\n",
       "4          IoT\n",
       "          ... \n",
       "1565281    IoT\n",
       "1565282    IoT\n",
       "1565283    IoT\n",
       "1565284    IoT\n",
       "1565285    IoT\n",
       "Name: category, Length: 1565286, dtype: object"
      ]
     },
     "execution_count": 3,
     "metadata": {},
     "output_type": "execute_result"
    }
   ],
   "source": [
    "label"
   ]
  },
  {
   "cell_type": "code",
   "execution_count": 4,
   "metadata": {},
   "outputs": [
    {
     "name": "stdout",
     "output_type": "stream",
     "text": [
      "    FIRST_SWITCHED  IN_BYTES  IN_PKTS    IPV4_DST_ADDR  L4_DST_PORT  \\\n",
      "0     1.579047e+09     240.0      4.0      52.9.239.18       5222.0   \n",
      "1     1.579047e+09      76.0      1.0   203.95.213.129        123.0   \n",
      "2     1.579047e+09     120.0      2.0    54.177.192.42       5222.0   \n",
      "3     1.579047e+09      76.0      1.0   192.36.143.130        123.0   \n",
      "4     1.579047e+09      60.0      1.0    54.177.192.42       5222.0   \n",
      "5     1.579047e+09     240.0      4.0      52.9.31.103       5222.0   \n",
      "6     1.579047e+09      76.0      1.0    193.29.63.150        123.0   \n",
      "7     1.579047e+09     120.0      2.0       52.8.43.71       5222.0   \n",
      "8     1.579047e+09      76.0      1.0      129.6.15.30        123.0   \n",
      "9     1.579047e+09      60.0      1.0       52.8.43.71       5222.0   \n",
      "10    1.579047e+09     120.0      2.0      52.9.31.103       5222.0   \n",
      "11    1.579047e+09      76.0      1.0  162.159.200.123        123.0   \n",
      "12    1.579047e+09      60.0      1.0      52.9.31.103       5222.0   \n",
      "13    1.579047e+09     240.0      4.0       52.9.1.248       5222.0   \n",
      "14    1.579047e+09      76.0      1.0   129.250.35.250        123.0   \n",
      "15    1.579047e+09     120.0      2.0       52.9.1.248       5222.0   \n",
      "16    1.579047e+09      76.0      1.0  195.154.174.209        123.0   \n",
      "17    1.579047e+09      60.0      1.0       52.9.1.248       5222.0   \n",
      "18    1.579047e+09     240.0      4.0      52.9.239.18       5222.0   \n",
      "19    1.579047e+09      76.0      1.0       192.99.2.8        123.0   \n",
      "\n",
      "    L4_SRC_PORT  LAST_SWITCHED  PROTOCOL  SRC_TOS  TCP_FLAGS  DURATION  \\\n",
      "0        3696.0   1.579043e+09       6.0      0.0        2.0    4195.0   \n",
      "1        4039.0   1.579043e+09      17.0      0.0        0.0    4216.0   \n",
      "2        3661.0   1.579043e+09       6.0      0.0        2.0    4213.0   \n",
      "3        4040.0   1.579043e+09      17.0      0.0        0.0    4217.0   \n",
      "4        3661.0   1.579043e+09       6.0      0.0        2.0    4216.0   \n",
      "5        2347.0   1.579043e+09       6.0      0.0        2.0    4195.0   \n",
      "6        4041.0   1.579043e+09      17.0      0.0        0.0    4216.0   \n",
      "7        3362.0   1.579043e+09       6.0      0.0        2.0    4214.0   \n",
      "8        4042.0   1.579043e+09      17.0      0.0        0.0    4216.0   \n",
      "9        3362.0   1.579043e+09       6.0      0.0        2.0    4216.0   \n",
      "10       2349.0   1.579043e+09       6.0      0.0        2.0    4214.0   \n",
      "11       4043.0   1.579043e+09      17.0      0.0        0.0    4216.0   \n",
      "12       2349.0   1.579043e+09       6.0      0.0        2.0    4216.0   \n",
      "13       2044.0   1.579043e+09       6.0      0.0        2.0    4195.0   \n",
      "14       4044.0   1.579043e+09      17.0      0.0        0.0    4216.0   \n",
      "15       2045.0   1.579043e+09       6.0      0.0        2.0    4213.0   \n",
      "16       4045.0   1.579043e+09      17.0      0.0        0.0    4216.0   \n",
      "17       2045.0   1.579043e+09       6.0      0.0        2.0    4217.0   \n",
      "18       3703.0   1.579043e+09       6.0      0.0        2.0    4195.0   \n",
      "19       4046.0   1.579043e+09      17.0      0.0        0.0    4217.0   \n",
      "\n",
      "                device_model partition  SRC_AS  DST_AS  INPUT_SNMP  \\\n",
      "0   webcam.Samsung.SNH-1011N  training     0.0     0.0         6.0   \n",
      "1   webcam.Samsung.SNH-1011N  training     0.0     0.0         6.0   \n",
      "2   webcam.Samsung.SNH-1011N  training     0.0     0.0         6.0   \n",
      "3   webcam.Samsung.SNH-1011N  training     0.0     0.0         6.0   \n",
      "4   webcam.Samsung.SNH-1011N  training     0.0     0.0         6.0   \n",
      "5   webcam.Samsung.SNH-1011N  training     0.0     0.0         6.0   \n",
      "6   webcam.Samsung.SNH-1011N  training     0.0     0.0         6.0   \n",
      "7   webcam.Samsung.SNH-1011N  training     0.0     0.0         6.0   \n",
      "8   webcam.Samsung.SNH-1011N  training     0.0     0.0         6.0   \n",
      "9   webcam.Samsung.SNH-1011N  training     0.0     0.0         6.0   \n",
      "10  webcam.Samsung.SNH-1011N  training     0.0     0.0         6.0   \n",
      "11  webcam.Samsung.SNH-1011N  training     0.0     0.0         6.0   \n",
      "12  webcam.Samsung.SNH-1011N  training     0.0     0.0         6.0   \n",
      "13  webcam.Samsung.SNH-1011N  training     0.0     0.0         6.0   \n",
      "14  webcam.Samsung.SNH-1011N  training     0.0     0.0         6.0   \n",
      "15  webcam.Samsung.SNH-1011N  training     0.0     0.0         6.0   \n",
      "16  webcam.Samsung.SNH-1011N  training     0.0     0.0         6.0   \n",
      "17  webcam.Samsung.SNH-1011N  training     0.0     0.0         6.0   \n",
      "18  webcam.Samsung.SNH-1011N  training     0.0     0.0         6.0   \n",
      "19  webcam.Samsung.SNH-1011N  training     0.0     0.0         6.0   \n",
      "\n",
      "    OUTPUT_SNMP  IPV4_SRC_ADDR                MAC  inter_arrival_time  \n",
      "0           1.0  192.168.1.227  00:16:6C:7F:82:21        1.579048e+09  \n",
      "1           1.0  192.168.1.227  00:16:6C:7F:82:21        2.100000e+01  \n",
      "2           1.0  192.168.1.227  00:16:6C:7F:82:21        1.000000e+01  \n",
      "3           1.0  192.168.1.227  00:16:6C:7F:82:21        2.000000e+01  \n",
      "4           1.0  192.168.1.227  00:16:6C:7F:82:21        1.000000e+00  \n",
      "5           1.0  192.168.1.227  00:16:6C:7F:82:21        9.000000e+00  \n",
      "6           1.0  192.168.1.227  00:16:6C:7F:82:21        2.100000e+01  \n",
      "7           1.0  192.168.1.227  00:16:6C:7F:82:21        9.000000e+00  \n",
      "8           1.0  192.168.1.227  00:16:6C:7F:82:21        2.100000e+01  \n",
      "9           1.0  192.168.1.227  00:16:6C:7F:82:21        0.000000e+00  \n",
      "10          1.0  192.168.1.227  00:16:6C:7F:82:21        9.000000e+00  \n",
      "11          1.0  192.168.1.227  00:16:6C:7F:82:21        2.100000e+01  \n",
      "12          1.0  192.168.1.227  00:16:6C:7F:82:21        0.000000e+00  \n",
      "13          1.0  192.168.1.227  00:16:6C:7F:82:21        9.000000e+00  \n",
      "14          1.0  192.168.1.227  00:16:6C:7F:82:21        2.100000e+01  \n",
      "15          1.0  192.168.1.227  00:16:6C:7F:82:21        1.000000e+01  \n",
      "16          1.0  192.168.1.227  00:16:6C:7F:82:21        2.000000e+01  \n",
      "17          1.0  192.168.1.227  00:16:6C:7F:82:21        1.000000e+00  \n",
      "18          1.0  192.168.1.227  00:16:6C:7F:82:21        9.000000e+00  \n",
      "19          1.0  192.168.1.227  00:16:6C:7F:82:21        2.000000e+01  \n"
     ]
    }
   ],
   "source": [
    "print(data.head(20))"
   ]
  },
  {
   "cell_type": "code",
   "execution_count": 5,
   "metadata": {},
   "outputs": [
    {
     "name": "stdout",
     "output_type": "stream",
     "text": [
      "       FIRST_SWITCHED      IN_BYTES       IN_PKTS   L4_DST_PORT   L4_SRC_PORT  \\\n",
      "count    1.565286e+06  1.565286e+06  1.565286e+06  1.565286e+06  1.565286e+06   \n",
      "mean     1.580598e+09  7.226326e+02  5.067918e+00  8.129631e+03  3.162837e+04   \n",
      "std      9.330934e+05  7.530315e+03  4.991111e+01  1.265576e+04  2.247024e+04   \n",
      "min      1.579047e+09  3.200000e+01  1.000000e+00  8.000000e+01  0.000000e+00   \n",
      "25%      1.579780e+09  7.600000e+01  1.000000e+00  1.230000e+02  3.934000e+03   \n",
      "50%      1.580555e+09  1.800000e+02  2.000000e+00  5.222000e+03  3.912500e+04   \n",
      "75%      1.581424e+09  9.750000e+02  6.000000e+00  8.800000e+03  5.150500e+04   \n",
      "max      1.582243e+09  2.842771e+06  2.298500e+04  6.384400e+04  6.553500e+04   \n",
      "\n",
      "       LAST_SWITCHED      PROTOCOL       SRC_TOS     TCP_FLAGS      DURATION  \\\n",
      "count   1.565286e+06  1.565286e+06  1.565286e+06  1.565286e+06  1.565286e+06   \n",
      "mean    1.580594e+09  1.085487e+01  8.829972e+00  7.226753e+00  4.224581e+03   \n",
      "std     9.330848e+05  5.507342e+00  3.252311e+01  1.100757e+01  1.282232e+01   \n",
      "min     1.579043e+09  1.000000e+00  0.000000e+00  0.000000e+00  4.171000e+03   \n",
      "25%     1.579776e+09  6.000000e+00  0.000000e+00  0.000000e+00  4.217000e+03   \n",
      "50%     1.580551e+09  6.000000e+00  0.000000e+00  2.000000e+00  4.221000e+03   \n",
      "75%     1.581419e+09  1.700000e+01  0.000000e+00  1.600000e+01  4.236000e+03   \n",
      "max     1.582239e+09  1.700000e+01  1.640000e+02  3.100000e+01  4.241000e+03   \n",
      "\n",
      "          SRC_AS     DST_AS  INPUT_SNMP  OUTPUT_SNMP  inter_arrival_time  \n",
      "count  1565286.0  1565286.0   1565286.0    1565286.0        1.565286e+06  \n",
      "mean         0.0        0.0         6.0          1.0        1.313959e+04  \n",
      "std          0.0        0.0         0.0          0.0        4.550776e+06  \n",
      "min          0.0        0.0         6.0          1.0        0.000000e+00  \n",
      "25%          0.0        0.0         6.0          1.0        3.000000e+00  \n",
      "50%          0.0        0.0         6.0          1.0        9.000000e+00  \n",
      "75%          0.0        0.0         6.0          1.0        2.400000e+01  \n",
      "max          0.0        0.0         6.0          1.0        1.579435e+09  \n"
     ]
    }
   ],
   "source": [
    "print(data.describe())"
   ]
  },
  {
   "cell_type": "code",
   "execution_count": 6,
   "metadata": {},
   "outputs": [
    {
     "data": {
      "text/html": [
       "<div>\n",
       "<style scoped>\n",
       "    .dataframe tbody tr th:only-of-type {\n",
       "        vertical-align: middle;\n",
       "    }\n",
       "\n",
       "    .dataframe tbody tr th {\n",
       "        vertical-align: top;\n",
       "    }\n",
       "\n",
       "    .dataframe thead th {\n",
       "        text-align: right;\n",
       "    }\n",
       "</style>\n",
       "<table border=\"1\" class=\"dataframe\">\n",
       "  <thead>\n",
       "    <tr style=\"text-align: right;\">\n",
       "      <th></th>\n",
       "      <th>FIRST_SWITCHED</th>\n",
       "      <th>IN_BYTES</th>\n",
       "      <th>IN_PKTS</th>\n",
       "      <th>IPV4_DST_ADDR</th>\n",
       "      <th>L4_DST_PORT</th>\n",
       "      <th>L4_SRC_PORT</th>\n",
       "      <th>LAST_SWITCHED</th>\n",
       "      <th>PROTOCOL</th>\n",
       "      <th>SRC_TOS</th>\n",
       "      <th>TCP_FLAGS</th>\n",
       "      <th>DURATION</th>\n",
       "      <th>device_model</th>\n",
       "      <th>partition</th>\n",
       "      <th>SRC_AS</th>\n",
       "      <th>DST_AS</th>\n",
       "      <th>INPUT_SNMP</th>\n",
       "      <th>OUTPUT_SNMP</th>\n",
       "      <th>IPV4_SRC_ADDR</th>\n",
       "      <th>MAC</th>\n",
       "      <th>inter_arrival_time</th>\n",
       "    </tr>\n",
       "  </thead>\n",
       "  <tbody>\n",
       "    <tr>\n",
       "      <th>0</th>\n",
       "      <td>1.579047e+09</td>\n",
       "      <td>240.0</td>\n",
       "      <td>4.0</td>\n",
       "      <td>52.9.239.18</td>\n",
       "      <td>5222.0</td>\n",
       "      <td>3696.0</td>\n",
       "      <td>1.579043e+09</td>\n",
       "      <td>6.0</td>\n",
       "      <td>0.0</td>\n",
       "      <td>2.0</td>\n",
       "      <td>4195.0</td>\n",
       "      <td>webcam.Samsung.SNH-1011N</td>\n",
       "      <td>training</td>\n",
       "      <td>0.0</td>\n",
       "      <td>0.0</td>\n",
       "      <td>6.0</td>\n",
       "      <td>1.0</td>\n",
       "      <td>192.168.1.227</td>\n",
       "      <td>00:16:6C:7F:82:21</td>\n",
       "      <td>1.579048e+09</td>\n",
       "    </tr>\n",
       "    <tr>\n",
       "      <th>1</th>\n",
       "      <td>1.579047e+09</td>\n",
       "      <td>76.0</td>\n",
       "      <td>1.0</td>\n",
       "      <td>203.95.213.129</td>\n",
       "      <td>123.0</td>\n",
       "      <td>4039.0</td>\n",
       "      <td>1.579043e+09</td>\n",
       "      <td>17.0</td>\n",
       "      <td>0.0</td>\n",
       "      <td>0.0</td>\n",
       "      <td>4216.0</td>\n",
       "      <td>webcam.Samsung.SNH-1011N</td>\n",
       "      <td>training</td>\n",
       "      <td>0.0</td>\n",
       "      <td>0.0</td>\n",
       "      <td>6.0</td>\n",
       "      <td>1.0</td>\n",
       "      <td>192.168.1.227</td>\n",
       "      <td>00:16:6C:7F:82:21</td>\n",
       "      <td>2.100000e+01</td>\n",
       "    </tr>\n",
       "  </tbody>\n",
       "</table>\n",
       "</div>"
      ],
      "text/plain": [
       "   FIRST_SWITCHED  IN_BYTES  IN_PKTS   IPV4_DST_ADDR  L4_DST_PORT  \\\n",
       "0    1.579047e+09     240.0      4.0     52.9.239.18       5222.0   \n",
       "1    1.579047e+09      76.0      1.0  203.95.213.129        123.0   \n",
       "\n",
       "   L4_SRC_PORT  LAST_SWITCHED  PROTOCOL  SRC_TOS  TCP_FLAGS  DURATION  \\\n",
       "0       3696.0   1.579043e+09       6.0      0.0        2.0    4195.0   \n",
       "1       4039.0   1.579043e+09      17.0      0.0        0.0    4216.0   \n",
       "\n",
       "               device_model partition  SRC_AS  DST_AS  INPUT_SNMP  \\\n",
       "0  webcam.Samsung.SNH-1011N  training     0.0     0.0         6.0   \n",
       "1  webcam.Samsung.SNH-1011N  training     0.0     0.0         6.0   \n",
       "\n",
       "   OUTPUT_SNMP  IPV4_SRC_ADDR                MAC  inter_arrival_time  \n",
       "0          1.0  192.168.1.227  00:16:6C:7F:82:21        1.579048e+09  \n",
       "1          1.0  192.168.1.227  00:16:6C:7F:82:21        2.100000e+01  "
      ]
     },
     "execution_count": 6,
     "metadata": {},
     "output_type": "execute_result"
    }
   ],
   "source": [
    "data.iloc[:2,:]"
   ]
  },
  {
   "cell_type": "code",
   "execution_count": 7,
   "metadata": {},
   "outputs": [],
   "source": [
    "# Convert String to Numeric\n",
    "def demo(clm):\n",
    "  le.fit(clm)\n",
    "  ans=le.transform(clm)\n",
    " # data.append(ans, ignore_index=True)\n",
    "  print(ans)\n"
   ]
  },
  {
   "cell_type": "code",
   "execution_count": 8,
   "metadata": {},
   "outputs": [],
   "source": [
    "## Function for converting Ip-Address to Integer \n",
    "def ip2int(ip):\n",
    "    res = 0\n",
    "    for j, i in enumerate(ip.split('.')[::-1]):\n",
    "        res += 256**j*int(i)\n",
    "    return res"
   ]
  },
  {
   "cell_type": "code",
   "execution_count": 9,
   "metadata": {},
   "outputs": [],
   "source": [
    "le=preprocessing.LabelEncoder()"
   ]
  },
  {
   "cell_type": "code",
   "execution_count": 10,
   "metadata": {},
   "outputs": [],
   "source": [
    "lis=[]\n",
    "for row in data.itertuples(index=True, name='IPV4_DST_ADDR'):\n",
    "    ip=ip2int(((getattr(row, \"IPV4_DST_ADDR\"))))\n",
    "    lis.append(ip)\n",
    "len(lis)\n",
    "ips=pd.Series(lis)\n",
    "data['IPV4_DST_ADDR']=ips"
   ]
  },
  {
   "cell_type": "code",
   "execution_count": 11,
   "metadata": {},
   "outputs": [
    {
     "ename": "AttributeError",
     "evalue": "'DataFrame' object has no attribute 'IP'",
     "output_type": "error",
     "traceback": [
      "\u001b[1;31m---------------------------------------------------------------------------\u001b[0m",
      "\u001b[1;31mAttributeError\u001b[0m                            Traceback (most recent call last)",
      "\u001b[1;32m<ipython-input-11-f6332b76795a>\u001b[0m in \u001b[0;36m<module>\u001b[1;34m\u001b[0m\n\u001b[1;32m----> 1\u001b[1;33m \u001b[0mle\u001b[0m\u001b[1;33m.\u001b[0m\u001b[0mfit\u001b[0m\u001b[1;33m(\u001b[0m\u001b[0mdata\u001b[0m\u001b[1;33m.\u001b[0m\u001b[0mIP\u001b[0m\u001b[1;33m)\u001b[0m\u001b[1;33m\u001b[0m\u001b[1;33m\u001b[0m\u001b[0m\n\u001b[0m\u001b[0;32m      2\u001b[0m \u001b[0mmac\u001b[0m\u001b[1;33m=\u001b[0m\u001b[0mle\u001b[0m\u001b[1;33m.\u001b[0m\u001b[0mtransform\u001b[0m\u001b[1;33m(\u001b[0m\u001b[0mdata\u001b[0m\u001b[1;33m.\u001b[0m\u001b[0mIP\u001b[0m\u001b[1;33m)\u001b[0m\u001b[1;33m\u001b[0m\u001b[1;33m\u001b[0m\u001b[0m\n\u001b[0;32m      3\u001b[0m \u001b[0mips\u001b[0m\u001b[1;33m=\u001b[0m\u001b[0mpd\u001b[0m\u001b[1;33m.\u001b[0m\u001b[0mSeries\u001b[0m\u001b[1;33m(\u001b[0m\u001b[0mmac\u001b[0m\u001b[1;33m)\u001b[0m\u001b[1;33m\u001b[0m\u001b[1;33m\u001b[0m\u001b[0m\n\u001b[0;32m      4\u001b[0m \u001b[0mdata\u001b[0m\u001b[1;33m[\u001b[0m\u001b[1;34m'IP'\u001b[0m\u001b[1;33m]\u001b[0m\u001b[1;33m=\u001b[0m\u001b[0mips\u001b[0m\u001b[1;33m\u001b[0m\u001b[1;33m\u001b[0m\u001b[0m\n",
      "\u001b[1;32mD:\\ML\\lib\\site-packages\\pandas\\core\\generic.py\u001b[0m in \u001b[0;36m__getattr__\u001b[1;34m(self, name)\u001b[0m\n\u001b[0;32m   5137\u001b[0m             \u001b[1;32mif\u001b[0m \u001b[0mself\u001b[0m\u001b[1;33m.\u001b[0m\u001b[0m_info_axis\u001b[0m\u001b[1;33m.\u001b[0m\u001b[0m_can_hold_identifiers_and_holds_name\u001b[0m\u001b[1;33m(\u001b[0m\u001b[0mname\u001b[0m\u001b[1;33m)\u001b[0m\u001b[1;33m:\u001b[0m\u001b[1;33m\u001b[0m\u001b[1;33m\u001b[0m\u001b[0m\n\u001b[0;32m   5138\u001b[0m                 \u001b[1;32mreturn\u001b[0m \u001b[0mself\u001b[0m\u001b[1;33m[\u001b[0m\u001b[0mname\u001b[0m\u001b[1;33m]\u001b[0m\u001b[1;33m\u001b[0m\u001b[1;33m\u001b[0m\u001b[0m\n\u001b[1;32m-> 5139\u001b[1;33m             \u001b[1;32mreturn\u001b[0m \u001b[0mobject\u001b[0m\u001b[1;33m.\u001b[0m\u001b[0m__getattribute__\u001b[0m\u001b[1;33m(\u001b[0m\u001b[0mself\u001b[0m\u001b[1;33m,\u001b[0m \u001b[0mname\u001b[0m\u001b[1;33m)\u001b[0m\u001b[1;33m\u001b[0m\u001b[1;33m\u001b[0m\u001b[0m\n\u001b[0m\u001b[0;32m   5140\u001b[0m \u001b[1;33m\u001b[0m\u001b[0m\n\u001b[0;32m   5141\u001b[0m     \u001b[1;32mdef\u001b[0m \u001b[0m__setattr__\u001b[0m\u001b[1;33m(\u001b[0m\u001b[0mself\u001b[0m\u001b[1;33m,\u001b[0m \u001b[0mname\u001b[0m\u001b[1;33m:\u001b[0m \u001b[0mstr\u001b[0m\u001b[1;33m,\u001b[0m \u001b[0mvalue\u001b[0m\u001b[1;33m)\u001b[0m \u001b[1;33m->\u001b[0m \u001b[1;32mNone\u001b[0m\u001b[1;33m:\u001b[0m\u001b[1;33m\u001b[0m\u001b[1;33m\u001b[0m\u001b[0m\n",
      "\u001b[1;31mAttributeError\u001b[0m: 'DataFrame' object has no attribute 'IP'"
     ]
    }
   ],
   "source": [
    "le.fit(data.IP)\n",
    "mac=le.transform(data.IP)\n",
    "ips=pd.Series(mac)\n",
    "data['IP']=ips"
   ]
  },
  {
   "cell_type": "code",
   "execution_count": 28,
   "metadata": {},
   "outputs": [
    {
     "data": {
      "text/plain": [
       "array([0, 0])"
      ]
     },
     "execution_count": 28,
     "metadata": {},
     "output_type": "execute_result"
    }
   ],
   "source": []
  },
  {
   "cell_type": "markdown",
   "metadata": {},
   "source": [
    "arr=[\"IPV4_DST_ADDR\",\"IP\",\"IPV4_SRC_ADDR\",\"MAC\"]\n",
    "for x in arr:\n",
    " lis=[]\n",
    " for row in data.itertuples(index=True, name=x):\n",
    "    ip=ip2int(((getattr(row, x ))))\n",
    "    lis.append(ip)\n",
    "#len(lis)\n",
    "    ips=pd.Series(lis)\n",
    "    data[x]=ips\n"
   ]
  },
  {
   "cell_type": "code",
   "execution_count": 17,
   "metadata": {},
   "outputs": [
    {
     "name": "stdout",
     "output_type": "stream",
     "text": [
      "[1136 7768 5318 ... 1413 1413 1413]\n",
      "[24 45 42 ... 69 70 69]\n"
     ]
    }
   ],
   "source": [
    "a=data.iloc[:,3]\n",
    "demo(a)\n",
    "demo(data.iloc[:,10])\n",
    "#demo(a)\n"
   ]
  },
  {
   "cell_type": "code",
   "execution_count": null,
   "metadata": {},
   "outputs": [],
   "source": []
  },
  {
   "cell_type": "code",
   "execution_count": 22,
   "metadata": {},
   "outputs": [
    {
     "data": {
      "image/png": "[encoded data removed]",
      "text/plain": [
       "<Figure size 432x288 with 20 Axes>"
      ]
     },
     "metadata": {
      "needs_background": "light"
     },
     "output_type": "display_data"
    }
   ],
   "source": [
    "data.hist()\n",
    "pyplot.show()"
   ]
  },
  {
   "cell_type": "code",
   "execution_count": 23,
   "metadata": {},
   "outputs": [],
   "source": [
    "le.fit(label)\n",
    "Y=le.transform(label)"
   ]
  },
  {
   "cell_type": "code",
   "execution_count": 24,
   "metadata": {},
   "outputs": [],
   "source": [
    "# Split-out validation dataset\n",
    "\n",
    "X = data.copy()\n",
    "le.fit(label)\n",
    "Y=le.transform(label)\n",
    "X_train, X_validation, Y_train, Y_validation = train_test_split(X, Y, test_size=0.20, random_state=1)\n"
   ]
  },
  {
   "cell_type": "code",
   "execution_count": null,
   "metadata": {},
   "outputs": [
    {
     "name": "stdout",
     "output_type": "stream",
     "text": [
      "LR: 0.890609 (0.000449)\n",
      "LDA: 0.988691 (0.000336)\n",
      "KNN: 0.996081 (0.000173)\n",
      "CART: 0.999999 (0.000002)\n",
      "NB: 0.900453 (0.000728)\n"
     ]
    }
   ],
   "source": [
    "...\n",
    "# Spot Check Algorithms\n",
    "models = []\n",
    "models.append(('LR', LogisticRegression(solver='liblinear', multi_class='ovr')))\n",
    "models.append(('LDA', LinearDiscriminantAnalysis()))\n",
    "models.append(('KNN', KNeighborsClassifier()))\n",
    "models.append(('CART', DecisionTreeClassifier()))\n",
    "models.append(('NB', GaussianNB()))#Navie\n",
    "models.append(('SVM', SVC(gamma='auto')))##SVM\n",
    "# evaluate each model in turn\n",
    "results = []\n",
    "names = []\n",
    "for name, model in models:\n",
    "\tkfold = StratifiedKFold(n_splits=10, random_state=1, shuffle=True)\n",
    "\tcv_results = cross_val_score(model, X_train, Y_train, cv=kfold, scoring='accuracy')\n",
    "\tresults.append(cv_results)\n",
    "\tnames.append(name)\n",
    "\tprint('%s: %f (%f)' % (name, cv_results.mean(), cv_results.std()))"
   ]
  },
  {
   "cell_type": "code",
   "execution_count": null,
   "metadata": {},
   "outputs": [],
   "source": [
    "from sklearn.metrics import confusion_matrix\n",
    "\n",
    "mat = confusion_matrix(ytest, y_model)\n",
    "\n",
    "sns.heatmap(mat, square=True, annot=True, cbar=False)\n",
    "plt.xlabel('predicted value')\n",
    "plt.ylabel('true value');"
   ]
  },
  {
   "cell_type": "code",
   "execution_count": null,
   "metadata": {},
   "outputs": [],
   "source": []
  }
 ],
 "metadata": {
  "kernelspec": {
   "display_name": "Python 3",
   "language": "python",
   "name": "python3"
  },
  "language_info": {
   "codemirror_mode": {
    "name": "ipython",
    "version": 3
   },
   "file_extension": ".py",
   "mimetype": "text/x-python",
   "name": "python",
   "nbconvert_exporter": "python",
   "pygments_lexer": "ipython3",
   "version": "3.8.5"
  }
 },
 "nbformat": 4,
 "nbformat_minor": 4
}
